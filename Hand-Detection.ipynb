{
 "cells": [
  {
   "cell_type": "markdown",
   "id": "b1f6616f",
   "metadata": {},
   "source": [
    "# Install Library"
   ]
  },
  {
   "cell_type": "code",
   "execution_count": 1,
   "id": "2e0988b9",
   "metadata": {},
   "outputs": [
    {
     "name": "stdout",
     "output_type": "stream",
     "text": [
      "Requirement already satisfied: mediapipe in /Users/ferasdahrooge/opt/anaconda3/lib/python3.9/site-packages (0.9.1.0)\n",
      "Requirement already satisfied: opencv-python in /Users/ferasdahrooge/opt/anaconda3/lib/python3.9/site-packages (4.7.0.68)\n",
      "Requirement already satisfied: flatbuffers>=2.0 in /Users/ferasdahrooge/opt/anaconda3/lib/python3.9/site-packages (from mediapipe) (23.1.4)\n",
      "Requirement already satisfied: matplotlib in /Users/ferasdahrooge/opt/anaconda3/lib/python3.9/site-packages (from mediapipe) (3.5.2)\n",
      "Requirement already satisfied: protobuf<4,>=3.11 in /Users/ferasdahrooge/opt/anaconda3/lib/python3.9/site-packages (from mediapipe) (3.19.6)\n",
      "Requirement already satisfied: opencv-contrib-python in /Users/ferasdahrooge/opt/anaconda3/lib/python3.9/site-packages (from mediapipe) (4.7.0.72)\n",
      "Requirement already satisfied: numpy in /Users/ferasdahrooge/opt/anaconda3/lib/python3.9/site-packages (from mediapipe) (1.21.5)\n",
      "Requirement already satisfied: attrs>=19.1.0 in /Users/ferasdahrooge/opt/anaconda3/lib/python3.9/site-packages (from mediapipe) (21.4.0)\n",
      "Requirement already satisfied: absl-py in /Users/ferasdahrooge/opt/anaconda3/lib/python3.9/site-packages (from mediapipe) (1.4.0)\n",
      "Requirement already satisfied: kiwisolver>=1.0.1 in /Users/ferasdahrooge/opt/anaconda3/lib/python3.9/site-packages (from matplotlib->mediapipe) (1.4.2)\n",
      "Requirement already satisfied: pillow>=6.2.0 in /Users/ferasdahrooge/opt/anaconda3/lib/python3.9/site-packages (from matplotlib->mediapipe) (9.2.0)\n",
      "Requirement already satisfied: python-dateutil>=2.7 in /Users/ferasdahrooge/opt/anaconda3/lib/python3.9/site-packages (from matplotlib->mediapipe) (2.8.2)\n",
      "Requirement already satisfied: fonttools>=4.22.0 in /Users/ferasdahrooge/opt/anaconda3/lib/python3.9/site-packages (from matplotlib->mediapipe) (4.25.0)\n",
      "Requirement already satisfied: pyparsing>=2.2.1 in /Users/ferasdahrooge/opt/anaconda3/lib/python3.9/site-packages (from matplotlib->mediapipe) (3.0.9)\n",
      "Requirement already satisfied: cycler>=0.10 in /Users/ferasdahrooge/opt/anaconda3/lib/python3.9/site-packages (from matplotlib->mediapipe) (0.11.0)\n",
      "Requirement already satisfied: packaging>=20.0 in /Users/ferasdahrooge/opt/anaconda3/lib/python3.9/site-packages (from matplotlib->mediapipe) (21.3)\n",
      "Requirement already satisfied: six>=1.5 in /Users/ferasdahrooge/opt/anaconda3/lib/python3.9/site-packages (from python-dateutil>=2.7->matplotlib->mediapipe) (1.16.0)\n"
     ]
    }
   ],
   "source": [
    "!pip install mediapipe opencv-python"
   ]
  },
  {
   "cell_type": "markdown",
   "id": "0ef126fd",
   "metadata": {},
   "source": [
    "## Import Libraries"
   ]
  },
  {
   "cell_type": "code",
   "execution_count": 2,
   "id": "62c20e0d",
   "metadata": {},
   "outputs": [
    {
     "name": "stderr",
     "output_type": "stream",
     "text": [
      "2023-03-24 19:30:32.291503: I tensorflow/core/platform/cpu_feature_guard.cc:193] This TensorFlow binary is optimized with oneAPI Deep Neural Network Library (oneDNN) to use the following CPU instructions in performance-critical operations:  AVX2 FMA\n",
      "To enable them in other operations, rebuild TensorFlow with the appropriate compiler flags.\n"
     ]
    }
   ],
   "source": [
    "import mediapipe as mp\n",
    "import cv2\n",
    "import numpy as np\n",
    "import uuid \n",
    "import os\n",
    "import matplotlib.pyplot as plt"
   ]
  },
  {
   "cell_type": "markdown",
   "id": "566fde27",
   "metadata": {},
   "source": [
    "### Define Detectors from Mediapipe"
   ]
  },
  {
   "cell_type": "code",
   "execution_count": 3,
   "id": "e6869f04",
   "metadata": {},
   "outputs": [],
   "source": [
    "mp_drawing = mp.solutions.drawing_utils\n",
    "mp_hands = mp.solutions.hands"
   ]
  },
  {
   "cell_type": "markdown",
   "id": "a06b026a",
   "metadata": {},
   "source": [
    "### Visualize Hand Signals"
   ]
  },
  {
   "cell_type": "code",
   "execution_count": null,
   "id": "8da7abdf",
   "metadata": {},
   "outputs": [],
   "source": []
  }
 ],
 "metadata": {
  "kernelspec": {
   "display_name": "Python 3 (ipykernel)",
   "language": "python",
   "name": "python3"
  },
  "language_info": {
   "codemirror_mode": {
    "name": "ipython",
    "version": 3
   },
   "file_extension": ".py",
   "mimetype": "text/x-python",
   "name": "python",
   "nbconvert_exporter": "python",
   "pygments_lexer": "ipython3",
   "version": "3.9.13"
  }
 },
 "nbformat": 4,
 "nbformat_minor": 5
}
